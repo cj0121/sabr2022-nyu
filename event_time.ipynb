{
 "cells": [
  {
   "cell_type": "code",
   "execution_count": 1,
   "id": "18632522",
   "metadata": {},
   "outputs": [],
   "source": [
    "import pandas as pd\n",
    "import seaborn as sns\n",
    "import matplotlib.pyplot as plt\n",
    "import numpy as np\n",
    "\n",
    "import requests\n",
    "import json\n",
    "from pybaseball import retrosheet\n",
    "\n",
    "pd.set_option('display.max_columns', None)"
   ]
  },
  {
   "cell_type": "code",
   "execution_count": 2,
   "id": "3116d31d",
   "metadata": {},
   "outputs": [
    {
     "name": "stderr",
     "output_type": "stream",
     "text": [
      "/Users/honeybunny/opt/anaconda3/lib/python3.9/site-packages/IPython/core/interactiveshell.py:3444: DtypeWarning: Columns (61) have mixed types.Specify dtype option on import or set low_memory=False.\n",
      "  exec(code_obj, self.user_global_ns, self.user_ns)\n"
     ]
    }
   ],
   "source": [
    "raw_data = pd.read_csv('data/PitchData_21(2).csv')"
   ]
  },
  {
   "cell_type": "code",
   "execution_count": 3,
   "id": "db219881",
   "metadata": {},
   "outputs": [],
   "source": [
    "data = raw_data.copy()"
   ]
  },
  {
   "cell_type": "code",
   "execution_count": 4,
   "id": "7b810dfa",
   "metadata": {},
   "outputs": [],
   "source": [
    "# change starTime and endTime into timestamps\n",
    "\n",
    "for index, row in data.iterrows():\n",
    "    startTime = pd.Timestamp(row.startTime)\n",
    "    endTime = pd.Timestamp(row.endTime)\n",
    "    startDate = startTime.date()\n",
    "    endDate = endTime.date()\n",
    "    data.at[index, 'startTime'] = startTime\n",
    "    data.at[index, 'startDate'] = startDate\n",
    "    data.at[index, 'endTime'] = endTime\n",
    "    data.at[index, 'endDate'] = endDate"
   ]
  },
  {
   "cell_type": "code",
   "execution_count": 5,
   "id": "f85f34e0",
   "metadata": {},
   "outputs": [
    {
     "data": {
      "text/plain": [
       "0"
      ]
     },
     "execution_count": 5,
     "metadata": {},
     "output_type": "execute_result"
    }
   ],
   "source": [
    "data['startTime'].isna().sum()"
   ]
  },
  {
   "cell_type": "code",
   "execution_count": 6,
   "id": "4031c613",
   "metadata": {},
   "outputs": [
    {
     "data": {
      "text/plain": [
       "14"
      ]
     },
     "execution_count": 6,
     "metadata": {},
     "output_type": "execute_result"
    }
   ],
   "source": [
    "data['endTime'].isna().sum()"
   ]
  },
  {
   "cell_type": "code",
   "execution_count": 7,
   "id": "c38c6f40",
   "metadata": {
    "scrolled": false
   },
   "outputs": [],
   "source": [
    "data_dropped = data[~data['endTime'].isna()].copy()\n",
    "data_dropped.drop(columns=data_dropped.columns[0], inplace=True)"
   ]
  },
  {
   "cell_type": "markdown",
   "id": "3a51f49d",
   "metadata": {},
   "source": [
    "# group by Game"
   ]
  },
  {
   "cell_type": "code",
   "execution_count": 8,
   "id": "3f507e8a",
   "metadata": {},
   "outputs": [],
   "source": [
    "data_game = data_dropped.groupby('game_pk').agg({'game_date':max, 'home_team':max, 'away_team':max,\n",
    "                                        'result.eventType': max, 'about.inning':max,\n",
    "                                        'startTime':min, 'endTime':max, 'startDate':min, 'endDate':max})\n",
    "data_game = data_game.reset_index()"
   ]
  },
  {
   "cell_type": "code",
   "execution_count": 9,
   "id": "25df382b",
   "metadata": {},
   "outputs": [],
   "source": [
    "data_game['diff_min'] = data_game['endTime'] - data_game['startTime']\n",
    "data_game['diff_min']=data_game['diff_min']/np.timedelta64(1,'m')"
   ]
  },
  {
   "cell_type": "code",
   "execution_count": 10,
   "id": "15fafe3d",
   "metadata": {},
   "outputs": [
    {
     "data": {
      "text/plain": [
       "(2429, 11)"
      ]
     },
     "execution_count": 10,
     "metadata": {},
     "output_type": "execute_result"
    }
   ],
   "source": [
    "data_game.shape"
   ]
  },
  {
   "cell_type": "code",
   "execution_count": 11,
   "id": "a89ab359",
   "metadata": {},
   "outputs": [
    {
     "data": {
      "text/plain": [
       "317.9976126183622"
      ]
     },
     "execution_count": 11,
     "metadata": {},
     "output_type": "execute_result"
    }
   ],
   "source": [
    "data_game['diff_min'].mean()"
   ]
  },
  {
   "cell_type": "code",
   "execution_count": 12,
   "id": "bc0c03c7",
   "metadata": {},
   "outputs": [
    {
     "data": {
      "text/plain": [
       "190.60921036064826"
      ]
     },
     "execution_count": 12,
     "metadata": {},
     "output_type": "execute_result"
    }
   ],
   "source": [
    "# avg game time when games with different start/end date are removed\n",
    "data_game[data_game['startDate']==data_game['endDate']]['diff_min'].mean()"
   ]
  },
  {
   "cell_type": "code",
   "execution_count": 13,
   "id": "1cbb1737",
   "metadata": {},
   "outputs": [
    {
     "data": {
      "text/plain": [
       "772416.20105"
      ]
     },
     "execution_count": 13,
     "metadata": {},
     "output_type": "execute_result"
    }
   ],
   "source": [
    "data_game['diff_min'].sum()"
   ]
  },
  {
   "cell_type": "code",
   "execution_count": 14,
   "id": "fcdf3c93",
   "metadata": {},
   "outputs": [
    {
     "data": {
      "text/plain": [
       "2429"
      ]
     },
     "execution_count": 14,
     "metadata": {},
     "output_type": "execute_result"
    }
   ],
   "source": [
    "data_game['game_pk'].nunique()"
   ]
  },
  {
   "cell_type": "markdown",
   "id": "f1d10352",
   "metadata": {},
   "source": [
    "# create list of games that start and end on different date"
   ]
  },
  {
   "cell_type": "code",
   "execution_count": 15,
   "id": "5d0730cb",
   "metadata": {},
   "outputs": [
    {
     "data": {
      "text/plain": [
       "867"
      ]
     },
     "execution_count": 15,
     "metadata": {},
     "output_type": "execute_result"
    }
   ],
   "source": [
    "diff_date = data_game[data_game['startDate']!=data_game['endDate']]['game_pk'].unique()\n",
    "len(diff_date)"
   ]
  },
  {
   "cell_type": "code",
   "execution_count": 16,
   "id": "5e66fd7c",
   "metadata": {},
   "outputs": [
    {
     "data": {
      "text/plain": [
       "1562"
      ]
     },
     "execution_count": 16,
     "metadata": {},
     "output_type": "execute_result"
    }
   ],
   "source": [
    "data_game_dropped = data_game[~data_game['game_pk'].isin(diff_date)].copy()\n",
    "data_game_dropped['game_pk'].nunique()"
   ]
  },
  {
   "cell_type": "markdown",
   "id": "4c114d33",
   "metadata": {},
   "source": [
    "# group by PA"
   ]
  },
  {
   "cell_type": "code",
   "execution_count": 17,
   "id": "1f8e50cb",
   "metadata": {},
   "outputs": [],
   "source": [
    "data_pa = data_dropped.groupby(['game_pk','atBatIndex']).agg({'result.eventType':max,\n",
    "                                                    'game_date':max, 'home_team':max, 'away_team':max,\n",
    "                                                    'result.eventType': max,\n",
    "                                                    'startTime':min,'startDate':min, 'endTime':max, 'endDate':max,\n",
    "                                                   'about.inning':max, 'about.halfInning':max,\n",
    "                                                    'matchup.splits.menOnBase':max, 'details.isInPlay':max})\n",
    "data_pa = data_pa.reset_index()"
   ]
  },
  {
   "cell_type": "code",
   "execution_count": 18,
   "id": "154bd0de",
   "metadata": {},
   "outputs": [],
   "source": [
    "data_pa.rename(columns={'result.eventType':'eventType', \n",
    "                     'about.inning': 'inning', 'about.halfInning':'halfInning',\n",
    "                       'matchup.splits.menOnBase':'menOnBase', 'details.isInPlay':'isInPlay'}, inplace=True)"
   ]
  },
  {
   "cell_type": "code",
   "execution_count": 19,
   "id": "9d171402",
   "metadata": {},
   "outputs": [],
   "source": [
    "data_pa['diff_min'] = data_pa['endTime'] - data_pa['startTime']\n",
    "data_pa['diff_min']=data_pa['diff_min']/np.timedelta64(1,'m')"
   ]
  },
  {
   "cell_type": "markdown",
   "id": "5cc2c62c",
   "metadata": {},
   "source": [
    "# drop pa with game_pk in the diff_date"
   ]
  },
  {
   "cell_type": "code",
   "execution_count": 20,
   "id": "cc873fe7",
   "metadata": {},
   "outputs": [
    {
     "data": {
      "text/plain": [
       "1562"
      ]
     },
     "execution_count": 20,
     "metadata": {},
     "output_type": "execute_result"
    }
   ],
   "source": [
    "data_pa_dropped = data_pa[~data_pa['game_pk'].isin(diff_date)].copy()\n",
    "data_pa_dropped['game_pk'].nunique()"
   ]
  },
  {
   "cell_type": "code",
   "execution_count": 21,
   "id": "47406381",
   "metadata": {
    "scrolled": false
   },
   "outputs": [
    {
     "data": {
      "text/plain": [
       "101.63047001707213"
      ]
     },
     "execution_count": 21,
     "metadata": {},
     "output_type": "execute_result"
    }
   ],
   "source": [
    "data_pa_dropped['diff_min'].sum()/data_pa_dropped['game_pk'].nunique()"
   ]
  },
  {
   "cell_type": "markdown",
   "id": "0d5a551c",
   "metadata": {},
   "source": [
    "# calculate pause time"
   ]
  },
  {
   "cell_type": "code",
   "execution_count": 22,
   "id": "54606077",
   "metadata": {},
   "outputs": [
    {
     "data": {
      "text/plain": [
       "1562"
      ]
     },
     "execution_count": 22,
     "metadata": {},
     "output_type": "execute_result"
    }
   ],
   "source": [
    "num_game = data_game_dropped['game_pk'].nunique()\n",
    "num_game"
   ]
  },
  {
   "cell_type": "code",
   "execution_count": 23,
   "id": "d116ba36",
   "metadata": {},
   "outputs": [
    {
     "data": {
      "text/plain": [
       "190.60921036064875"
      ]
     },
     "execution_count": 23,
     "metadata": {},
     "output_type": "execute_result"
    }
   ],
   "source": [
    "data_game_dropped['diff_min'].sum()/num_game"
   ]
  },
  {
   "cell_type": "markdown",
   "id": "268c49b7",
   "metadata": {},
   "source": [
    "# average pause time: game on the same date"
   ]
  },
  {
   "cell_type": "code",
   "execution_count": 24,
   "id": "4c2fe5ef",
   "metadata": {},
   "outputs": [
    {
     "data": {
      "text/plain": [
       "88.9787403435766"
      ]
     },
     "execution_count": 24,
     "metadata": {},
     "output_type": "execute_result"
    }
   ],
   "source": [
    "(data_game_dropped['diff_min'].sum() - data_pa_dropped['diff_min'].sum())/num_game"
   ]
  },
  {
   "cell_type": "markdown",
   "id": "517403cd",
   "metadata": {},
   "source": [
    "# event time and prob"
   ]
  },
  {
   "cell_type": "code",
   "execution_count": 25,
   "id": "8f5515f6",
   "metadata": {
    "scrolled": true
   },
   "outputs": [
    {
     "data": {
      "text/html": [
       "<div>\n",
       "<style scoped>\n",
       "    .dataframe tbody tr th:only-of-type {\n",
       "        vertical-align: middle;\n",
       "    }\n",
       "\n",
       "    .dataframe tbody tr th {\n",
       "        vertical-align: top;\n",
       "    }\n",
       "\n",
       "    .dataframe thead th {\n",
       "        text-align: right;\n",
       "    }\n",
       "</style>\n",
       "<table border=\"1\" class=\"dataframe\">\n",
       "  <thead>\n",
       "    <tr style=\"text-align: right;\">\n",
       "      <th></th>\n",
       "      <th>event</th>\n",
       "      <th>counts</th>\n",
       "      <th>prob</th>\n",
       "    </tr>\n",
       "  </thead>\n",
       "  <tbody>\n",
       "    <tr>\n",
       "      <th>0</th>\n",
       "      <td>field_out</td>\n",
       "      <td>70948</td>\n",
       "      <td>0.389544</td>\n",
       "    </tr>\n",
       "    <tr>\n",
       "      <th>1</th>\n",
       "      <td>strikeout</td>\n",
       "      <td>42036</td>\n",
       "      <td>0.230801</td>\n",
       "    </tr>\n",
       "    <tr>\n",
       "      <th>2</th>\n",
       "      <td>single</td>\n",
       "      <td>25006</td>\n",
       "      <td>0.137297</td>\n",
       "    </tr>\n",
       "    <tr>\n",
       "      <th>3</th>\n",
       "      <td>walk</td>\n",
       "      <td>15091</td>\n",
       "      <td>0.082858</td>\n",
       "    </tr>\n",
       "    <tr>\n",
       "      <th>4</th>\n",
       "      <td>double</td>\n",
       "      <td>7863</td>\n",
       "      <td>0.043172</td>\n",
       "    </tr>\n",
       "    <tr>\n",
       "      <th>5</th>\n",
       "      <td>home_run</td>\n",
       "      <td>5944</td>\n",
       "      <td>0.032636</td>\n",
       "    </tr>\n",
       "    <tr>\n",
       "      <th>6</th>\n",
       "      <td>force_out</td>\n",
       "      <td>3727</td>\n",
       "      <td>0.020463</td>\n",
       "    </tr>\n",
       "    <tr>\n",
       "      <th>7</th>\n",
       "      <td>grounded_into_double_play</td>\n",
       "      <td>3313</td>\n",
       "      <td>0.018190</td>\n",
       "    </tr>\n",
       "    <tr>\n",
       "      <th>8</th>\n",
       "      <td>hit_by_pitch</td>\n",
       "      <td>2112</td>\n",
       "      <td>0.011596</td>\n",
       "    </tr>\n",
       "    <tr>\n",
       "      <th>9</th>\n",
       "      <td>field_error</td>\n",
       "      <td>1243</td>\n",
       "      <td>0.006825</td>\n",
       "    </tr>\n",
       "    <tr>\n",
       "      <th>10</th>\n",
       "      <td>sac_fly</td>\n",
       "      <td>1126</td>\n",
       "      <td>0.006182</td>\n",
       "    </tr>\n",
       "    <tr>\n",
       "      <th>11</th>\n",
       "      <td>sac_bunt</td>\n",
       "      <td>764</td>\n",
       "      <td>0.004195</td>\n",
       "    </tr>\n",
       "    <tr>\n",
       "      <th>12</th>\n",
       "      <td>intent_walk</td>\n",
       "      <td>703</td>\n",
       "      <td>0.003860</td>\n",
       "    </tr>\n",
       "    <tr>\n",
       "      <th>13</th>\n",
       "      <td>triple</td>\n",
       "      <td>671</td>\n",
       "      <td>0.003684</td>\n",
       "    </tr>\n",
       "    <tr>\n",
       "      <th>14</th>\n",
       "      <td>fielders_choice</td>\n",
       "      <td>405</td>\n",
       "      <td>0.002224</td>\n",
       "    </tr>\n",
       "    <tr>\n",
       "      <th>15</th>\n",
       "      <td>double_play</td>\n",
       "      <td>385</td>\n",
       "      <td>0.002114</td>\n",
       "    </tr>\n",
       "    <tr>\n",
       "      <th>16</th>\n",
       "      <td>fielders_choice_out</td>\n",
       "      <td>287</td>\n",
       "      <td>0.001576</td>\n",
       "    </tr>\n",
       "    <tr>\n",
       "      <th>17</th>\n",
       "      <td>caught_stealing_2b</td>\n",
       "      <td>155</td>\n",
       "      <td>0.000851</td>\n",
       "    </tr>\n",
       "    <tr>\n",
       "      <th>18</th>\n",
       "      <td>strikeout_double_play</td>\n",
       "      <td>109</td>\n",
       "      <td>0.000598</td>\n",
       "    </tr>\n",
       "    <tr>\n",
       "      <th>19</th>\n",
       "      <td>catcher_interf</td>\n",
       "      <td>61</td>\n",
       "      <td>0.000335</td>\n",
       "    </tr>\n",
       "    <tr>\n",
       "      <th>20</th>\n",
       "      <td>other_out</td>\n",
       "      <td>42</td>\n",
       "      <td>0.000231</td>\n",
       "    </tr>\n",
       "    <tr>\n",
       "      <th>21</th>\n",
       "      <td>pickoff_caught_stealing_2b</td>\n",
       "      <td>40</td>\n",
       "      <td>0.000220</td>\n",
       "    </tr>\n",
       "    <tr>\n",
       "      <th>22</th>\n",
       "      <td>pickoff_1b</td>\n",
       "      <td>22</td>\n",
       "      <td>0.000121</td>\n",
       "    </tr>\n",
       "    <tr>\n",
       "      <th>23</th>\n",
       "      <td>sac_fly_double_play</td>\n",
       "      <td>17</td>\n",
       "      <td>0.000093</td>\n",
       "    </tr>\n",
       "    <tr>\n",
       "      <th>24</th>\n",
       "      <td>caught_stealing_3b</td>\n",
       "      <td>12</td>\n",
       "      <td>0.000066</td>\n",
       "    </tr>\n",
       "    <tr>\n",
       "      <th>25</th>\n",
       "      <td>pickoff_2b</td>\n",
       "      <td>12</td>\n",
       "      <td>0.000066</td>\n",
       "    </tr>\n",
       "    <tr>\n",
       "      <th>26</th>\n",
       "      <td>caught_stealing_home</td>\n",
       "      <td>9</td>\n",
       "      <td>0.000049</td>\n",
       "    </tr>\n",
       "    <tr>\n",
       "      <th>27</th>\n",
       "      <td>wild_pitch</td>\n",
       "      <td>9</td>\n",
       "      <td>0.000049</td>\n",
       "    </tr>\n",
       "    <tr>\n",
       "      <th>28</th>\n",
       "      <td>triple_play</td>\n",
       "      <td>5</td>\n",
       "      <td>0.000027</td>\n",
       "    </tr>\n",
       "    <tr>\n",
       "      <th>29</th>\n",
       "      <td>pickoff_caught_stealing_3b</td>\n",
       "      <td>4</td>\n",
       "      <td>0.000022</td>\n",
       "    </tr>\n",
       "    <tr>\n",
       "      <th>30</th>\n",
       "      <td>game_advisory</td>\n",
       "      <td>3</td>\n",
       "      <td>0.000016</td>\n",
       "    </tr>\n",
       "    <tr>\n",
       "      <th>31</th>\n",
       "      <td>pickoff_3b</td>\n",
       "      <td>2</td>\n",
       "      <td>0.000011</td>\n",
       "    </tr>\n",
       "    <tr>\n",
       "      <th>32</th>\n",
       "      <td>sac_bunt_double_play</td>\n",
       "      <td>2</td>\n",
       "      <td>0.000011</td>\n",
       "    </tr>\n",
       "    <tr>\n",
       "      <th>33</th>\n",
       "      <td>passed_ball</td>\n",
       "      <td>1</td>\n",
       "      <td>0.000005</td>\n",
       "    </tr>\n",
       "    <tr>\n",
       "      <th>34</th>\n",
       "      <td>stolen_base_2b</td>\n",
       "      <td>1</td>\n",
       "      <td>0.000005</td>\n",
       "    </tr>\n",
       "    <tr>\n",
       "      <th>35</th>\n",
       "      <td>pickoff_caught_stealing_home</td>\n",
       "      <td>1</td>\n",
       "      <td>0.000005</td>\n",
       "    </tr>\n",
       "  </tbody>\n",
       "</table>\n",
       "</div>"
      ],
      "text/plain": [
       "                           event  counts      prob\n",
       "0                      field_out   70948  0.389544\n",
       "1                      strikeout   42036  0.230801\n",
       "2                         single   25006  0.137297\n",
       "3                           walk   15091  0.082858\n",
       "4                         double    7863  0.043172\n",
       "5                       home_run    5944  0.032636\n",
       "6                      force_out    3727  0.020463\n",
       "7      grounded_into_double_play    3313  0.018190\n",
       "8                   hit_by_pitch    2112  0.011596\n",
       "9                    field_error    1243  0.006825\n",
       "10                       sac_fly    1126  0.006182\n",
       "11                      sac_bunt     764  0.004195\n",
       "12                   intent_walk     703  0.003860\n",
       "13                        triple     671  0.003684\n",
       "14               fielders_choice     405  0.002224\n",
       "15                   double_play     385  0.002114\n",
       "16           fielders_choice_out     287  0.001576\n",
       "17            caught_stealing_2b     155  0.000851\n",
       "18         strikeout_double_play     109  0.000598\n",
       "19                catcher_interf      61  0.000335\n",
       "20                     other_out      42  0.000231\n",
       "21    pickoff_caught_stealing_2b      40  0.000220\n",
       "22                    pickoff_1b      22  0.000121\n",
       "23           sac_fly_double_play      17  0.000093\n",
       "24            caught_stealing_3b      12  0.000066\n",
       "25                    pickoff_2b      12  0.000066\n",
       "26          caught_stealing_home       9  0.000049\n",
       "27                    wild_pitch       9  0.000049\n",
       "28                   triple_play       5  0.000027\n",
       "29    pickoff_caught_stealing_3b       4  0.000022\n",
       "30                 game_advisory       3  0.000016\n",
       "31                    pickoff_3b       2  0.000011\n",
       "32          sac_bunt_double_play       2  0.000011\n",
       "33                   passed_ball       1  0.000005\n",
       "34                stolen_base_2b       1  0.000005\n",
       "35  pickoff_caught_stealing_home       1  0.000005"
      ]
     },
     "execution_count": 25,
     "metadata": {},
     "output_type": "execute_result"
    }
   ],
   "source": [
    "# event probability\n",
    "event_chart = data_pa['eventType'].value_counts().rename_axis('event').reset_index(name='counts')\n",
    "event_chart['prob'] = event_chart['counts']/event_chart['counts'].sum()\n",
    "event_chart"
   ]
  },
  {
   "cell_type": "code",
   "execution_count": 26,
   "id": "c9c9dc13",
   "metadata": {},
   "outputs": [],
   "source": [
    "# make list of event\n",
    "event_list = event_chart['event'].unique()"
   ]
  },
  {
   "cell_type": "code",
   "execution_count": 27,
   "id": "e26f914c",
   "metadata": {},
   "outputs": [],
   "source": [
    "# calculate avg event time\n",
    "for event in event_list:\n",
    "    avg_min = data_pa_dropped[data_pa_dropped['eventType'] == event]['diff_min'].mean()\n",
    "    event_chart.loc[event_chart['event']==event, 'avgTime'] = avg_min\n",
    "    event_chart.loc[event_chart['event']==event, 'medTime'] = data_pa[data_pa['eventType']==event]['diff_min'].median()"
   ]
  },
  {
   "cell_type": "code",
   "execution_count": 28,
   "id": "2994a456",
   "metadata": {
    "scrolled": true
   },
   "outputs": [
    {
     "data": {
      "text/html": [
       "<div>\n",
       "<style scoped>\n",
       "    .dataframe tbody tr th:only-of-type {\n",
       "        vertical-align: middle;\n",
       "    }\n",
       "\n",
       "    .dataframe tbody tr th {\n",
       "        vertical-align: top;\n",
       "    }\n",
       "\n",
       "    .dataframe thead th {\n",
       "        text-align: right;\n",
       "    }\n",
       "</style>\n",
       "<table border=\"1\" class=\"dataframe\">\n",
       "  <thead>\n",
       "    <tr style=\"text-align: right;\">\n",
       "      <th></th>\n",
       "      <th>event</th>\n",
       "      <th>counts</th>\n",
       "      <th>prob</th>\n",
       "      <th>avgTime</th>\n",
       "      <th>medTime</th>\n",
       "    </tr>\n",
       "  </thead>\n",
       "  <tbody>\n",
       "    <tr>\n",
       "      <th>0</th>\n",
       "      <td>field_out</td>\n",
       "      <td>70948</td>\n",
       "      <td>0.389544</td>\n",
       "      <td>1.112635</td>\n",
       "      <td>0.917175</td>\n",
       "    </tr>\n",
       "    <tr>\n",
       "      <th>1</th>\n",
       "      <td>strikeout</td>\n",
       "      <td>42036</td>\n",
       "      <td>0.230801</td>\n",
       "      <td>1.736027</td>\n",
       "      <td>1.561142</td>\n",
       "    </tr>\n",
       "    <tr>\n",
       "      <th>2</th>\n",
       "      <td>single</td>\n",
       "      <td>25006</td>\n",
       "      <td>0.137297</td>\n",
       "      <td>1.143888</td>\n",
       "      <td>0.953817</td>\n",
       "    </tr>\n",
       "    <tr>\n",
       "      <th>3</th>\n",
       "      <td>walk</td>\n",
       "      <td>15091</td>\n",
       "      <td>0.082858</td>\n",
       "      <td>2.150663</td>\n",
       "      <td>1.938300</td>\n",
       "    </tr>\n",
       "    <tr>\n",
       "      <th>4</th>\n",
       "      <td>double</td>\n",
       "      <td>7863</td>\n",
       "      <td>0.043172</td>\n",
       "      <td>1.205817</td>\n",
       "      <td>0.990300</td>\n",
       "    </tr>\n",
       "    <tr>\n",
       "      <th>5</th>\n",
       "      <td>home_run</td>\n",
       "      <td>5944</td>\n",
       "      <td>0.032636</td>\n",
       "      <td>1.414192</td>\n",
       "      <td>1.201350</td>\n",
       "    </tr>\n",
       "    <tr>\n",
       "      <th>6</th>\n",
       "      <td>force_out</td>\n",
       "      <td>3727</td>\n",
       "      <td>0.020463</td>\n",
       "      <td>1.189222</td>\n",
       "      <td>0.987700</td>\n",
       "    </tr>\n",
       "    <tr>\n",
       "      <th>7</th>\n",
       "      <td>grounded_into_double_play</td>\n",
       "      <td>3313</td>\n",
       "      <td>0.018190</td>\n",
       "      <td>1.190220</td>\n",
       "      <td>0.967817</td>\n",
       "    </tr>\n",
       "    <tr>\n",
       "      <th>8</th>\n",
       "      <td>hit_by_pitch</td>\n",
       "      <td>2112</td>\n",
       "      <td>0.011596</td>\n",
       "      <td>1.026117</td>\n",
       "      <td>0.851558</td>\n",
       "    </tr>\n",
       "    <tr>\n",
       "      <th>9</th>\n",
       "      <td>field_error</td>\n",
       "      <td>1243</td>\n",
       "      <td>0.006825</td>\n",
       "      <td>1.128556</td>\n",
       "      <td>0.982533</td>\n",
       "    </tr>\n",
       "    <tr>\n",
       "      <th>10</th>\n",
       "      <td>sac_fly</td>\n",
       "      <td>1126</td>\n",
       "      <td>0.006182</td>\n",
       "      <td>1.362865</td>\n",
       "      <td>1.072717</td>\n",
       "    </tr>\n",
       "    <tr>\n",
       "      <th>11</th>\n",
       "      <td>sac_bunt</td>\n",
       "      <td>764</td>\n",
       "      <td>0.004195</td>\n",
       "      <td>0.637519</td>\n",
       "      <td>0.506958</td>\n",
       "    </tr>\n",
       "    <tr>\n",
       "      <th>12</th>\n",
       "      <td>intent_walk</td>\n",
       "      <td>703</td>\n",
       "      <td>0.003860</td>\n",
       "      <td>0.395702</td>\n",
       "      <td>0.044850</td>\n",
       "    </tr>\n",
       "    <tr>\n",
       "      <th>13</th>\n",
       "      <td>triple</td>\n",
       "      <td>671</td>\n",
       "      <td>0.003684</td>\n",
       "      <td>1.377614</td>\n",
       "      <td>1.109550</td>\n",
       "    </tr>\n",
       "    <tr>\n",
       "      <th>14</th>\n",
       "      <td>fielders_choice</td>\n",
       "      <td>405</td>\n",
       "      <td>0.002224</td>\n",
       "      <td>1.284646</td>\n",
       "      <td>1.222500</td>\n",
       "    </tr>\n",
       "    <tr>\n",
       "      <th>15</th>\n",
       "      <td>double_play</td>\n",
       "      <td>385</td>\n",
       "      <td>0.002114</td>\n",
       "      <td>1.354584</td>\n",
       "      <td>1.116617</td>\n",
       "    </tr>\n",
       "    <tr>\n",
       "      <th>16</th>\n",
       "      <td>fielders_choice_out</td>\n",
       "      <td>287</td>\n",
       "      <td>0.001576</td>\n",
       "      <td>1.325235</td>\n",
       "      <td>1.124617</td>\n",
       "    </tr>\n",
       "    <tr>\n",
       "      <th>17</th>\n",
       "      <td>caught_stealing_2b</td>\n",
       "      <td>155</td>\n",
       "      <td>0.000851</td>\n",
       "      <td>1.022979</td>\n",
       "      <td>0.875517</td>\n",
       "    </tr>\n",
       "    <tr>\n",
       "      <th>18</th>\n",
       "      <td>strikeout_double_play</td>\n",
       "      <td>109</td>\n",
       "      <td>0.000598</td>\n",
       "      <td>3.026135</td>\n",
       "      <td>2.860800</td>\n",
       "    </tr>\n",
       "    <tr>\n",
       "      <th>19</th>\n",
       "      <td>catcher_interf</td>\n",
       "      <td>61</td>\n",
       "      <td>0.000335</td>\n",
       "      <td>1.107116</td>\n",
       "      <td>1.131117</td>\n",
       "    </tr>\n",
       "    <tr>\n",
       "      <th>20</th>\n",
       "      <td>other_out</td>\n",
       "      <td>42</td>\n",
       "      <td>0.000231</td>\n",
       "      <td>1.054806</td>\n",
       "      <td>0.852792</td>\n",
       "    </tr>\n",
       "    <tr>\n",
       "      <th>21</th>\n",
       "      <td>pickoff_caught_stealing_2b</td>\n",
       "      <td>40</td>\n",
       "      <td>0.000220</td>\n",
       "      <td>0.649821</td>\n",
       "      <td>0.490925</td>\n",
       "    </tr>\n",
       "    <tr>\n",
       "      <th>22</th>\n",
       "      <td>pickoff_1b</td>\n",
       "      <td>22</td>\n",
       "      <td>0.000121</td>\n",
       "      <td>0.857736</td>\n",
       "      <td>0.480617</td>\n",
       "    </tr>\n",
       "    <tr>\n",
       "      <th>23</th>\n",
       "      <td>sac_fly_double_play</td>\n",
       "      <td>17</td>\n",
       "      <td>0.000093</td>\n",
       "      <td>1.596008</td>\n",
       "      <td>1.103133</td>\n",
       "    </tr>\n",
       "    <tr>\n",
       "      <th>24</th>\n",
       "      <td>caught_stealing_3b</td>\n",
       "      <td>12</td>\n",
       "      <td>0.000066</td>\n",
       "      <td>1.021352</td>\n",
       "      <td>1.063692</td>\n",
       "    </tr>\n",
       "    <tr>\n",
       "      <th>25</th>\n",
       "      <td>pickoff_2b</td>\n",
       "      <td>12</td>\n",
       "      <td>0.000066</td>\n",
       "      <td>1.224513</td>\n",
       "      <td>1.048117</td>\n",
       "    </tr>\n",
       "    <tr>\n",
       "      <th>26</th>\n",
       "      <td>caught_stealing_home</td>\n",
       "      <td>9</td>\n",
       "      <td>0.000049</td>\n",
       "      <td>0.954752</td>\n",
       "      <td>1.098317</td>\n",
       "    </tr>\n",
       "    <tr>\n",
       "      <th>27</th>\n",
       "      <td>wild_pitch</td>\n",
       "      <td>9</td>\n",
       "      <td>0.000049</td>\n",
       "      <td>1.528417</td>\n",
       "      <td>1.577067</td>\n",
       "    </tr>\n",
       "    <tr>\n",
       "      <th>28</th>\n",
       "      <td>triple_play</td>\n",
       "      <td>5</td>\n",
       "      <td>0.000027</td>\n",
       "      <td>0.554978</td>\n",
       "      <td>0.911667</td>\n",
       "    </tr>\n",
       "    <tr>\n",
       "      <th>29</th>\n",
       "      <td>pickoff_caught_stealing_3b</td>\n",
       "      <td>4</td>\n",
       "      <td>0.000022</td>\n",
       "      <td>1.294600</td>\n",
       "      <td>0.533300</td>\n",
       "    </tr>\n",
       "    <tr>\n",
       "      <th>30</th>\n",
       "      <td>game_advisory</td>\n",
       "      <td>3</td>\n",
       "      <td>0.000016</td>\n",
       "      <td>0.843733</td>\n",
       "      <td>0.843733</td>\n",
       "    </tr>\n",
       "    <tr>\n",
       "      <th>31</th>\n",
       "      <td>pickoff_3b</td>\n",
       "      <td>2</td>\n",
       "      <td>0.000011</td>\n",
       "      <td>0.771333</td>\n",
       "      <td>0.771333</td>\n",
       "    </tr>\n",
       "    <tr>\n",
       "      <th>32</th>\n",
       "      <td>sac_bunt_double_play</td>\n",
       "      <td>2</td>\n",
       "      <td>0.000011</td>\n",
       "      <td>0.150917</td>\n",
       "      <td>0.630242</td>\n",
       "    </tr>\n",
       "    <tr>\n",
       "      <th>33</th>\n",
       "      <td>passed_ball</td>\n",
       "      <td>1</td>\n",
       "      <td>0.000005</td>\n",
       "      <td>NaN</td>\n",
       "      <td>0.985333</td>\n",
       "    </tr>\n",
       "    <tr>\n",
       "      <th>34</th>\n",
       "      <td>stolen_base_2b</td>\n",
       "      <td>1</td>\n",
       "      <td>0.000005</td>\n",
       "      <td>NaN</td>\n",
       "      <td>1.756967</td>\n",
       "    </tr>\n",
       "    <tr>\n",
       "      <th>35</th>\n",
       "      <td>pickoff_caught_stealing_home</td>\n",
       "      <td>1</td>\n",
       "      <td>0.000005</td>\n",
       "      <td>0.077783</td>\n",
       "      <td>0.077783</td>\n",
       "    </tr>\n",
       "  </tbody>\n",
       "</table>\n",
       "</div>"
      ],
      "text/plain": [
       "                           event  counts      prob   avgTime   medTime\n",
       "0                      field_out   70948  0.389544  1.112635  0.917175\n",
       "1                      strikeout   42036  0.230801  1.736027  1.561142\n",
       "2                         single   25006  0.137297  1.143888  0.953817\n",
       "3                           walk   15091  0.082858  2.150663  1.938300\n",
       "4                         double    7863  0.043172  1.205817  0.990300\n",
       "5                       home_run    5944  0.032636  1.414192  1.201350\n",
       "6                      force_out    3727  0.020463  1.189222  0.987700\n",
       "7      grounded_into_double_play    3313  0.018190  1.190220  0.967817\n",
       "8                   hit_by_pitch    2112  0.011596  1.026117  0.851558\n",
       "9                    field_error    1243  0.006825  1.128556  0.982533\n",
       "10                       sac_fly    1126  0.006182  1.362865  1.072717\n",
       "11                      sac_bunt     764  0.004195  0.637519  0.506958\n",
       "12                   intent_walk     703  0.003860  0.395702  0.044850\n",
       "13                        triple     671  0.003684  1.377614  1.109550\n",
       "14               fielders_choice     405  0.002224  1.284646  1.222500\n",
       "15                   double_play     385  0.002114  1.354584  1.116617\n",
       "16           fielders_choice_out     287  0.001576  1.325235  1.124617\n",
       "17            caught_stealing_2b     155  0.000851  1.022979  0.875517\n",
       "18         strikeout_double_play     109  0.000598  3.026135  2.860800\n",
       "19                catcher_interf      61  0.000335  1.107116  1.131117\n",
       "20                     other_out      42  0.000231  1.054806  0.852792\n",
       "21    pickoff_caught_stealing_2b      40  0.000220  0.649821  0.490925\n",
       "22                    pickoff_1b      22  0.000121  0.857736  0.480617\n",
       "23           sac_fly_double_play      17  0.000093  1.596008  1.103133\n",
       "24            caught_stealing_3b      12  0.000066  1.021352  1.063692\n",
       "25                    pickoff_2b      12  0.000066  1.224513  1.048117\n",
       "26          caught_stealing_home       9  0.000049  0.954752  1.098317\n",
       "27                    wild_pitch       9  0.000049  1.528417  1.577067\n",
       "28                   triple_play       5  0.000027  0.554978  0.911667\n",
       "29    pickoff_caught_stealing_3b       4  0.000022  1.294600  0.533300\n",
       "30                 game_advisory       3  0.000016  0.843733  0.843733\n",
       "31                    pickoff_3b       2  0.000011  0.771333  0.771333\n",
       "32          sac_bunt_double_play       2  0.000011  0.150917  0.630242\n",
       "33                   passed_ball       1  0.000005       NaN  0.985333\n",
       "34                stolen_base_2b       1  0.000005       NaN  1.756967\n",
       "35  pickoff_caught_stealing_home       1  0.000005  0.077783  0.077783"
      ]
     },
     "execution_count": 28,
     "metadata": {},
     "output_type": "execute_result"
    }
   ],
   "source": [
    "event_chart"
   ]
  },
  {
   "cell_type": "code",
   "execution_count": 29,
   "id": "4094abbf",
   "metadata": {},
   "outputs": [
    {
     "data": {
      "text/plain": [
       "1.362687085377666"
      ]
     },
     "execution_count": 29,
     "metadata": {},
     "output_type": "execute_result"
    }
   ],
   "source": [
    "(event_chart['prob'] * event_chart['avgTime']).sum()"
   ]
  },
  {
   "cell_type": "code",
   "execution_count": 30,
   "id": "7736f0ba",
   "metadata": {},
   "outputs": [
    {
     "data": {
      "text/plain": [
       "74.98188554960889"
      ]
     },
     "execution_count": 30,
     "metadata": {},
     "output_type": "execute_result"
    }
   ],
   "source": [
    "num_pa = data_pa.shape[0]/2429\n",
    "num_pa"
   ]
  },
  {
   "cell_type": "code",
   "execution_count": 31,
   "id": "c5f9d263",
   "metadata": {},
   "outputs": [
    {
     "name": "stdout",
     "output_type": "stream",
     "text": [
      "Expected Play Time: 102.1768470757183\n"
     ]
    }
   ],
   "source": [
    "# expected play time\n",
    "play_time = (num_pa * event_chart['prob'] * event_chart['avgTime']).sum()\n",
    "print(f\"Expected Play Time: {play_time}\")"
   ]
  },
  {
   "cell_type": "code",
   "execution_count": 32,
   "id": "30003b3b",
   "metadata": {},
   "outputs": [
    {
     "name": "stdout",
     "output_type": "stream",
     "text": [
      "Avg Pause Time: 88.9787403435766\n"
     ]
    }
   ],
   "source": [
    "# avg pause time\n",
    "avg_pause = (data_game_dropped['diff_min'].sum() - data_pa_dropped['diff_min'].sum())/num_game\n",
    "print(f\"Avg Pause Time: {avg_pause}\")"
   ]
  },
  {
   "cell_type": "code",
   "execution_count": 33,
   "id": "4ee19718",
   "metadata": {},
   "outputs": [
    {
     "name": "stdout",
     "output_type": "stream",
     "text": [
      "Total: 191.1555874192949\n"
     ]
    }
   ],
   "source": [
    "# expected total\n",
    "print(f\"Total: {play_time + avg_pause}\")"
   ]
  },
  {
   "cell_type": "markdown",
   "id": "fe11b301",
   "metadata": {},
   "source": [
    "# drop pitches from from different date games"
   ]
  },
  {
   "cell_type": "code",
   "execution_count": 34,
   "id": "5262589f",
   "metadata": {},
   "outputs": [
    {
     "data": {
      "text/plain": [
       "1562"
      ]
     },
     "execution_count": 34,
     "metadata": {},
     "output_type": "execute_result"
    }
   ],
   "source": [
    "data_dropped = data_dropped[~data_dropped['game_pk'].isin(diff_date)].copy()\n",
    "data_dropped['game_pk'].nunique()"
   ]
  },
  {
   "cell_type": "code",
   "execution_count": 35,
   "id": "7ee38455",
   "metadata": {},
   "outputs": [],
   "source": [
    "data_dropped['diff_min'] = data_dropped['endTime'] - data_dropped['startTime']\n",
    "data_dropped['diff_min']=data_dropped['diff_min']/np.timedelta64(1,'m')"
   ]
  },
  {
   "cell_type": "code",
   "execution_count": 36,
   "id": "0b2efda8",
   "metadata": {},
   "outputs": [],
   "source": [
    "data_dropped.rename(columns={'result.eventType':'eventType', \n",
    "                     'about.inning': 'inning', 'about.halfInning':'halfInning',\n",
    "                       'matchup.splits.menOnBase':'menOnBase', 'details.isInPlay':'isInPlay'}, inplace=True)"
   ]
  },
  {
   "cell_type": "markdown",
   "id": "75b8c9ac",
   "metadata": {},
   "source": [
    "# in play pct on different situation"
   ]
  },
  {
   "cell_type": "code",
   "execution_count": 37,
   "id": "6deba180",
   "metadata": {},
   "outputs": [
    {
     "data": {
      "text/plain": [
       "28023"
      ]
     },
     "execution_count": 37,
     "metadata": {},
     "output_type": "execute_result"
    }
   ],
   "source": [
    "# no runner on base, less than 12 sec, # pitch in play:\n",
    "under12InPlay = data_dropped[(data_dropped['menOnBase']=='Empty')&(data_dropped['isInPlay']==True)&(data_dropped['diff_min']<0.15)].shape[0]\n",
    "under12InPlay"
   ]
  },
  {
   "cell_type": "code",
   "execution_count": 38,
   "id": "8ce89a7f",
   "metadata": {},
   "outputs": [
    {
     "data": {
      "text/plain": [
       "233775"
      ]
     },
     "execution_count": 38,
     "metadata": {},
     "output_type": "execute_result"
    }
   ],
   "source": [
    "# no runner on base, less than 12 sec, # pitch total:\n",
    "under12Total = data_dropped[(data_dropped['menOnBase']=='Empty')&(data_dropped['diff_min']<0.15)].shape[0]\n",
    "under12Total"
   ]
  },
  {
   "cell_type": "code",
   "execution_count": 39,
   "id": "ed9681b6",
   "metadata": {},
   "outputs": [
    {
     "name": "stdout",
     "output_type": "stream",
     "text": [
      "Pct under: 0.11987167147898621\n"
     ]
    }
   ],
   "source": [
    "print(f\"Pct under: {under12InPlay/under12Total}\")"
   ]
  },
  {
   "cell_type": "code",
   "execution_count": 40,
   "id": "bf19ef0d",
   "metadata": {},
   "outputs": [
    {
     "data": {
      "text/plain": [
       "16848"
      ]
     },
     "execution_count": 40,
     "metadata": {},
     "output_type": "execute_result"
    }
   ],
   "source": [
    "# no runner on base, >= than 12 sec, # pitch in play:\n",
    "over12InPlay = data_dropped[(data_dropped['menOnBase']=='Empty')&(data_dropped['isInPlay']==True)&(data_dropped['diff_min']>=0.15)].shape[0]\n",
    "over12InPlay"
   ]
  },
  {
   "cell_type": "code",
   "execution_count": 41,
   "id": "657e874d",
   "metadata": {},
   "outputs": [
    {
     "data": {
      "text/plain": [
       "19670"
      ]
     },
     "execution_count": 41,
     "metadata": {},
     "output_type": "execute_result"
    }
   ],
   "source": [
    "# no runner on base, >= than 12 sec, # pitch total:\n",
    "over12Total = data_dropped[(data_dropped['menOnBase']=='Empty')&(data_dropped['diff_min']>=0.15)].shape[0]\n",
    "over12Total"
   ]
  },
  {
   "cell_type": "code",
   "execution_count": 42,
   "id": "f9e1f63f",
   "metadata": {},
   "outputs": [
    {
     "name": "stdout",
     "output_type": "stream",
     "text": [
      "Pct over: 0.856532791052364\n"
     ]
    }
   ],
   "source": [
    "print(f\"Pct over: {over12InPlay/over12Total}\")"
   ]
  },
  {
   "cell_type": "code",
   "execution_count": 43,
   "id": "e3b2fe42",
   "metadata": {},
   "outputs": [],
   "source": [
    "pitch_inPlay = data_dropped[(data_dropped['menOnBase']=='Empty')&(data_dropped['isInPlay']==True)]"
   ]
  },
  {
   "cell_type": "code",
   "execution_count": 44,
   "id": "4053b5d2",
   "metadata": {},
   "outputs": [
    {
     "data": {
      "text/plain": [
       "(44871, 136)"
      ]
     },
     "execution_count": 44,
     "metadata": {},
     "output_type": "execute_result"
    }
   ],
   "source": [
    "pitch_inPlay.shape"
   ]
  },
  {
   "cell_type": "code",
   "execution_count": 45,
   "id": "56755f90",
   "metadata": {},
   "outputs": [
    {
     "data": {
      "text/plain": [
       "(253445, 136)"
      ]
     },
     "execution_count": 45,
     "metadata": {},
     "output_type": "execute_result"
    }
   ],
   "source": [
    "data_dropped[data_dropped['menOnBase']=='Empty'].shape"
   ]
  },
  {
   "cell_type": "code",
   "execution_count": 46,
   "id": "f43ab254",
   "metadata": {},
   "outputs": [
    {
     "data": {
      "text/plain": [
       "0.05"
      ]
     },
     "execution_count": 46,
     "metadata": {},
     "output_type": "execute_result"
    }
   ],
   "source": [
    "data_dropped[(data_dropped['menOnBase']=='Empty')&(data_dropped['isInPlay']==True)]['diff_min'].min()"
   ]
  },
  {
   "cell_type": "code",
   "execution_count": 47,
   "id": "d89be50a",
   "metadata": {},
   "outputs": [
    {
     "data": {
      "text/plain": [
       "<AxesSubplot:xlabel='diff_min', ylabel='Count'>"
      ]
     },
     "execution_count": 47,
     "metadata": {},
     "output_type": "execute_result"
    },
    {
     "data": {
      "image/png": "[encoded data removed]",
      "text/plain": [
       "<Figure size 432x288 with 1 Axes>"
      ]
     },
     "metadata": {
      "needs_background": "light"
     },
     "output_type": "display_data"
    }
   ],
   "source": [
    "sns.histplot(data=pitch_inPlay, x='diff_min')"
   ]
  }
 ],
 "metadata": {
  "kernelspec": {
   "display_name": "Python 3 (ipykernel)",
   "language": "python",
   "name": "python3"
  },
  "language_info": {
   "codemirror_mode": {
    "name": "ipython",
    "version": 3
   },
   "file_extension": ".py",
   "mimetype": "text/x-python",
   "name": "python",
   "nbconvert_exporter": "python",
   "pygments_lexer": "ipython3",
   "version": "3.9.7"
  }
 },
 "nbformat": 4,
 "nbformat_minor": 5
}
