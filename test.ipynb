{
 "cells": [
  {
   "cell_type": "code",
   "execution_count": 6,
   "id": "14380ac9",
   "metadata": {},
   "outputs": [],
   "source": [
    "import pandas as pd\n",
    "import seaborn as sns\n",
    "import matplotlib.pyplot as plt\n",
    "import numpy as np\n",
    "\n",
    "from pybaseball import team_game_logs\n",
    "from pybaseball import team_ids\n",
    "from pybaseball import team_batting\n",
    "\n",
    "from sklearn.model_selection import train_test_split\n",
    "from sklearn.model_selection import KFold\n",
    "\n",
    "\n",
    "import statsmodels.api as sm\n",
    "import statsmodels.tools.eval_measures as sme\n",
    "\n",
    "import import_ipynb\n",
    "import functions as func\n",
    "\n",
    "pd.set_option('display.max_columns', None)"
   ]
  },
  {
   "cell_type": "code",
   "execution_count": 7,
   "id": "fadd6a62",
   "metadata": {},
   "outputs": [],
   "source": [
    "raw_data = pd.read_csv('data/PitchData_21.csv')\n",
    "raw_data.drop(columns=raw_data.columns[0], inplace=True)"
   ]
  },
  {
   "cell_type": "code",
   "execution_count": 8,
   "id": "0e08cd30",
   "metadata": {},
   "outputs": [],
   "source": [
    "data = raw_data.copy()"
   ]
  },
  {
   "cell_type": "code",
   "execution_count": 12,
   "id": "c79cff37",
   "metadata": {},
   "outputs": [],
   "source": [
    "data = data[(data['plate_x'].notna())&(data['plate_x'].notna())].copy()"
   ]
  },
  {
   "cell_type": "code",
   "execution_count": 15,
   "id": "88727d76",
   "metadata": {},
   "outputs": [
    {
     "data": {
      "text/plain": [
       "array(['hit_into_play', 'foul', 'called_strike', 'ball', 'blocked_ball',\n",
       "       'swinging_strike', 'swinging_strike_blocked', 'foul_tip',\n",
       "       'foul_bunt', 'hit_by_pitch', 'missed_bunt', 'pitchout',\n",
       "       'bunt_foul_tip', 'foul_pitchout'], dtype=object)"
      ]
     },
     "execution_count": 15,
     "metadata": {},
     "output_type": "execute_result"
    }
   ],
   "source": [
    "data['description'].unique()"
   ]
  },
  {
   "cell_type": "code",
   "execution_count": 33,
   "id": "525d46fe",
   "metadata": {},
   "outputs": [],
   "source": [
    "data.loc[data['description']=='ball', 'isBall'] = 1\n",
    "data.loc[data['description']!='ball', 'isBall'] = 0\n",
    "data.loc[(data['description']=='ball')|(data['description']=='hit_by_pitch')|(data['description']=='pitchout'), 'isSwing']=0\n",
    "data.loc[data['isSwing']!=0, 'isSwing'] = 1"
   ]
  },
  {
   "cell_type": "code",
   "execution_count": 34,
   "id": "dedb0a65",
   "metadata": {},
   "outputs": [
    {
     "data": {
      "text/plain": [
       "1.0    493236\n",
       "0.0    250790\n",
       "Name: isSwing, dtype: int64"
      ]
     },
     "execution_count": 34,
     "metadata": {},
     "output_type": "execute_result"
    }
   ],
   "source": [
    "data['isSwing'].value_counts()"
   ]
  },
  {
   "cell_type": "code",
   "execution_count": null,
   "id": "f6633ed7",
   "metadata": {},
   "outputs": [],
   "source": [
    "# swing rate of all pitches\n"
   ]
  }
 ],
 "metadata": {
  "kernelspec": {
   "display_name": "Python 3 (ipykernel)",
   "language": "python",
   "name": "python3"
  },
  "language_info": {
   "codemirror_mode": {
    "name": "ipython",
    "version": 3
   },
   "file_extension": ".py",
   "mimetype": "text/x-python",
   "name": "python",
   "nbconvert_exporter": "python",
   "pygments_lexer": "ipython3",
   "version": "3.9.7"
  }
 },
 "nbformat": 4,
 "nbformat_minor": 5
}
